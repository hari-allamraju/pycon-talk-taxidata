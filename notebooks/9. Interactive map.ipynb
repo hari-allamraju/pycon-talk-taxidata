{
 "cells": [
  {
   "cell_type": "code",
   "execution_count": 1,
   "metadata": {
    "collapsed": true
   },
   "outputs": [],
   "source": [
    "import gmaps\n",
    "import os\n",
    "from sgtaxidata import *\n",
    "from IPython.display import display,clear_output\n",
    "import ipywidgets as widgets\n",
    "from sklearn.ensemble import *\n",
    "import numpy as np\n",
    "from datetime import datetime\n",
    "import time\n",
    "\n",
    "gmaps.configure(api_key=os.environ[\"GOOGLE_API_KEY\"])\n",
    "dlat,dlon=utils.get_lat_long(\"Serangoon\")\n",
    "\n",
    "info_box_template = \"\"\"\n",
    "<dl>\n",
    "<dd>{name}</dd>\n",
    "</dl>\n",
    "\"\"\""
   ]
  },
  {
   "cell_type": "code",
   "execution_count": 2,
   "metadata": {
    "collapsed": true
   },
   "outputs": [],
   "source": [
    "DBNAME=\"../taxis.db\"\n",
    "\n",
    "holidays=['20170626']\n",
    "def peak(h,m,w):\n",
    "    return 1 if ((w==1 and (h>=6 and (h <=9 and m<30)) or (h >= 18))) else 0\n",
    "\n",
    "def weekday(d):\n",
    "    dt=datetime.strptime(d,\"%Y%m%d\")\n",
    "    return 1 if datetime.isoweekday(dt)<6 else 0"
   ]
  },
  {
   "cell_type": "code",
   "execution_count": 3,
   "metadata": {},
   "outputs": [
    {
     "name": "stderr",
     "output_type": "stream",
     "text": [
      "Widget Javascript not detected.  It may not be installed or enabled properly.\n"
     ]
    },
    {
     "data": {
      "application/vnd.jupyter.widget-view+json": {
       "model_id": "75b675ab7a944bed92684e049c7f0b4d"
      }
     },
     "metadata": {},
     "output_type": "display_data"
    },
    {
     "data": {
      "text/plain": [
       "<function __main__.draw_map>"
      ]
     },
     "execution_count": 3,
     "metadata": {},
     "output_type": "execute_result"
    }
   ],
   "source": [
    "fig=None\n",
    "def draw_map(lat,lon):\n",
    "    global fig\n",
    "    if fig:\n",
    "        fig.close()\n",
    "    fig=gmaps.figure(center=(1.35,103.8),zoom_level=11)\n",
    "    location=utils.get_location(lat,lon)\n",
    "    d={'name':location}\n",
    "    ml=gmaps.marker_layer([(lat,lon)],info_box_content=[info_box_template.format(**d)])\n",
    "    fig.add_layer(ml)\n",
    "    display(fig)\n",
    "    \n",
    "    dates=taxis.get_dates(DBNAME)\n",
    "    data=[analysis.get_weekday_data(date,DBNAME,lat,lon,holidays=holidays) for date in dates]\n",
    "    data=[x for x in data if x is not None]\n",
    "    rf=RandomForestRegressor(n_estimators=100,n_jobs=10,warm_start=True)\n",
    "    for df in data:\n",
    "        X=df.drop(['TaxiCount','PeakHour'],axis=1)\n",
    "        y=np.array(df['TaxiCount'])\n",
    "        rf.fit(X,y.ravel())\n",
    "        rf.n_estimators+=20\n",
    "\n",
    "    h=20\n",
    "    grid=utils.create_grid(h)\n",
    "    d=utils.get_taxi_data()\n",
    "    points=d['features'][0]['geometry']['coordinates']\n",
    "    for b,a in points:\n",
    "        i,j=utils.get_grid_cell(a,b,h)\n",
    "        grid[j][i]+=1\n",
    "\n",
    "    i,j=utils.get_grid_cell(lat,lon)\n",
    "    n=datetime.now()\n",
    "    h=n.hour\n",
    "    m=int(5 * round(float(n.minute)/5))\n",
    "    p=1 if datetime.isoweekday(n)<6 else 0\n",
    "    X=np.array([h,m]).reshape(1,-1)\n",
    "    \n",
    "    print \"Location \",location\n",
    "    print \"Predicted \",rf.predict(X)[0]\n",
    "    print \"Actual \",grid[j][i]\n",
    "\n",
    "widgets.interact(draw_map,lat=widgets.FloatSlider(min=constants.min_lat,max=constants.max_lat,step=0.0001,value=dlat,continuous_update=False),\n",
    "                       lon=widgets.FloatSlider(min=constants.min_lon,max=constants.max_lon,step=0.0001,value=dlon,continuous_update=False))"
   ]
  },
  {
   "cell_type": "code",
   "execution_count": null,
   "metadata": {
    "collapsed": true
   },
   "outputs": [],
   "source": []
  }
 ],
 "metadata": {
  "kernelspec": {
   "display_name": "Python 2",
   "language": "python",
   "name": "python2"
  },
  "language_info": {
   "codemirror_mode": {
    "name": "ipython",
    "version": 2
   },
   "file_extension": ".py",
   "mimetype": "text/x-python",
   "name": "python",
   "nbconvert_exporter": "python",
   "pygments_lexer": "ipython2",
   "version": "2.7.13"
  }
 },
 "nbformat": 4,
 "nbformat_minor": 2
}
