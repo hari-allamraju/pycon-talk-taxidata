{
 "cells": [
  {
   "cell_type": "code",
   "execution_count": null,
   "metadata": {
    "collapsed": true
   },
   "outputs": [],
   "source": [
    "#using alpha predict with kernel ridge\n",
    "#prove the result is within the CI\n",
    "#plot the confidence interval as bands and show the error within that\n",
    "#Try a few confidence intervals\n",
    "#Score the model for a few days\n",
    "#use test train split method\n",
    "#then move on to random forest\n",
    "\n",
    "# Maybe ....\n",
    "#Flask example? or a Neural net learning example?"
   ]
  }
 ],
 "metadata": {
  "kernelspec": {
   "display_name": "Python 2",
   "language": "python",
   "name": "python2"
  },
  "language_info": {
   "codemirror_mode": {
    "name": "ipython",
    "version": 2
   },
   "file_extension": ".py",
   "mimetype": "text/x-python",
   "name": "python",
   "nbconvert_exporter": "python",
   "pygments_lexer": "ipython2",
   "version": "2.7.13"
  }
 },
 "nbformat": 4,
 "nbformat_minor": 2
}
