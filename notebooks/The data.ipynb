{
 "cells": [
  {
   "cell_type": "markdown",
   "metadata": {},
   "source": [
    "Data sources\n",
    "=======\n",
    "\n",
    "The Singapore Land Transport Authority (LTA) provides an open API which can be used to fetch the taxi availability at any point of time. The data is from their data mall, updated every 30 seconds, and they recommend we strike the service every minute.\n",
    "\n",
    "The data consists of the latitude and longitude of every taxi that is currently available i.e, not hired or busy. It doesnt provide any identifiable information about each taxi.\n",
    "\n",
    "We can use this snapshot data and record it over a period of time to build a history of how the availability changed. The best visualization of this is to transform the co-ordinates into a grid and show aggregated count per grid cell.\n",
    "\n",
    "A very good example of this can be found at - https://github.com/lihaoyi/opendata\n",
    "\n",
    "This code formed the basis of the data gathering done for this talk."
   ]
  },
  {
   "cell_type": "markdown",
   "metadata": {},
   "source": [
    "Capturing sufficient data\n",
    "==============\n",
    "\n",
    "For the purpose of this talk a small script was run, every 5 minutes, to get the data snapshot and save it into a json file. This was done for a period from Saturday to the next Sunday.\n",
    "\n",
    "The data in the json files was then transformed into a grid of height 20 and a width derived based on the lat lon box determined for Singapore. The transformed grid was saved to SQLite with each row containing the date,the grid cell coordinates, the hour and minute and the taxi count.\n",
    "\n",
    "This schema allows to get the taxi counts for a location for an entire day, or for a gievn location and time for the entire data collection period and similar data for all of Singapore"
   ]
  }
 ],
 "metadata": {
  "kernelspec": {
   "display_name": "Python 2",
   "language": "python",
   "name": "python2"
  },
  "language_info": {
   "codemirror_mode": {
    "name": "ipython",
    "version": 2
   },
   "file_extension": ".py",
   "mimetype": "text/x-python",
   "name": "python",
   "nbconvert_exporter": "python",
   "pygments_lexer": "ipython2",
   "version": "2.7.13"
  }
 },
 "nbformat": 4,
 "nbformat_minor": 2
}
