{
 "cells": [
  {
   "cell_type": "markdown",
   "metadata": {},
   "source": [
    "# Machine learning taxi data!"
   ]
  },
  {
   "cell_type": "markdown",
   "metadata": {
    "collapsed": true
   },
   "source": [
    "## What do we want to do? and do we roughly know how?\n",
    "\n",
    "Our main aim here is to use the taxi data that we descrbed earlier and use that to predict taxi availability in the future.\n",
    "\n",
    "How do we do that? In order to do that, we need to \n",
    "\n",
    "- Take the data and determine a relation between the input variables and the taxi availability at that time\n",
    "- Apply that pattern to a set of input variables that describe a point in future and get the value for that time in future\n",
    "\n",
    "This sounds pretty simple. Lets break it down a bit more.\n",
    "\n",
    "When we say input variables, what do we mean? We mean \n",
    "\n",
    "- The location\n",
    "- The time of the day\n",
    "- Whether it is a weekday or a weekend? or a holiday?\n",
    "\n",
    "All the three parameters above have a chance to influence the taxi availability at any place. There can be other variables as well, like weather, the general mood of the taxi drivers, any big events etc. We would try and get weather data, but the other variables we cannot predict.\n",
    "\n",
    "So assuming we have only the 3 variables that we listed above, we can determine an approximate function/equation which will map the input values of the location, time and type of the day to the taxi avaialability.\n",
    "\n",
    "Great!\n",
    "\n",
    "How about predicting the future?\n",
    "\n",
    "Any given day in future can be described by the above 3 variables, although we would still be missing the other unknown variables. So let us say that at 9 AM on a Monday we had 40 taxis, if we determine the function well enough, it should be able to predict the rough number of taxis that will be available on any given Monday at 9 AM.\n",
    "\n",
    "This will not be 100% correct, there are a lot of parameters and there will be more and more combinations of these parameters occuring on a daily basis. When we build a large scale real world application, we will be continuously look at new data and fine tuning our function."
   ]
  },
  {
   "cell_type": "markdown",
   "metadata": {},
   "source": [
    "## Let's put some technical terms to what we discussed above\n",
    "\n",
    "In machine learing, the following terms are key, and the closely match what we disucssed above.\n",
    "\n",
    "- Training set: this is the data that we have captured from the real world scenario which we want to learn about, and which we will use to create the model\n",
    "- Features: the parameters what we have captured from the application and which describe the inputs/outputs from the system\n",
    "- Model: This is the function/equation/logic that we will learn based on the Training set, and this will determine the behavior of the real world system as best as it can.\n",
    "- Test set: this is also data from the real world, but which has not been fed to the model, and we will use this to determine how accurately the model is working. We will feed the inputs from the test data set to the model and compare the predicted output to the actual output from the test set. The difference is the error\n",
    "\n",
    "The training and test cycle can be repeated to get more fine tuned and better results. There are a large number of algorithms and approaches used to train and model the systems and that is out of scope of this.\n",
    "\n",
    "However, we can go over the two broad types of machine learning - Supervised Learning and Unsupervised learning.\n",
    "\n",
    "### Supervised learning\n",
    "\n",
    "Here the data comes with additional attributes that we want to predict. The problem can further be of two types,\n",
    "\n",
    "- Classification: samples belong to two or more classes and we want to learn from already labeled data how to predict the class of unlabeled data. An example of classification problem would be the handwritten digit recognition example, in which the aim is to assign each input vector to one of a finite number of discrete categories. Another way to think of classification is as a discrete (as opposed to continuous) form of supervised learning where one has a limited number of categories and for each of the n samples provided, one is to try to label them with the correct category or class.\n",
    "- Regression: if the desired output consists of one or more continuous variables, then the task is called regression. An example of a regression problem would be the prediction of the length of a salmon as a function of its age and weight.\n",
    "\n",
    "### Un-Supervised learning\n",
    "\n",
    "Here the training data consists of a set of input vectors x without any corresponding target values. The goal in such problems may be to discover groups of similar examples within the data, where it is called clustering, or to determine the distribution of data within the input space, known as density estimation, or to project the data from a high-dimensional space down to two or three dimensions for the purpose of visualization"
   ]
  },
  {
   "cell_type": "markdown",
   "metadata": {},
   "source": [
    "## What category does our data fall in?\n",
    "\n",
    "It all depends on what we want to extract from the data.\n",
    "\n",
    "Based on the Singapore taxi data source that we described earlier, we have the date, time, location and the taxi count at the location. So we have 4 features here, 3 of which are the inputs and map to the taxi count at that date-time-location which is the output.\n",
    "\n",
    "We could use this data for both types of learning described above. If we wanted to identify areas of Singapore where there is a high concentration of taxis, like the most active clusters, then we would do un-supervized learning, for example k-means clustering.\n",
    "\n",
    "If we want to classify the various locations across the city based on taxi availability and plot something like a heat map then we would use a superivised classification algorithm like Random Forest classifier or a Nearest Neighbors classifier.\n",
    "\n",
    "If we are interested in predicting the future values, then we would use a supervised regression algorithm like Kernel Ridge regression, or Random Forest Regression."
   ]
  }
 ],
 "metadata": {
  "kernelspec": {
   "display_name": "Python 2",
   "language": "python",
   "name": "python2"
  },
  "language_info": {
   "codemirror_mode": {
    "name": "ipython",
    "version": 2
   },
   "file_extension": ".py",
   "mimetype": "text/x-python",
   "name": "python",
   "nbconvert_exporter": "python",
   "pygments_lexer": "ipython2",
   "version": "2.7.13"
  }
 },
 "nbformat": 4,
 "nbformat_minor": 2
}
