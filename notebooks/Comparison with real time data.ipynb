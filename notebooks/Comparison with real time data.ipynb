{
 "cells": [
  {
   "cell_type": "markdown",
   "metadata": {},
   "source": [
    "# Comparison with real time data"
   ]
  },
  {
   "cell_type": "markdown",
   "metadata": {},
   "source": [
    "Lets take this to the next level - we will train a model and then use it to try and predict the current taxi availability."
   ]
  },
  {
   "cell_type": "code",
   "execution_count": 14,
   "metadata": {
    "collapsed": true
   },
   "outputs": [],
   "source": [
    "from sgtaxidata import *\n",
    "from sklearn.ensemble import *\n",
    "import numpy as np\n",
    "from datetime import datetime\n",
    "import time\n",
    "\n",
    "\n",
    "DBNAME=\"../taxis.db\"\n",
    "\n",
    "holidays=['20170626']\n",
    "def peak(h,m,w):\n",
    "    return 1 if ((w==1 and (h>=6 and (h <=9 and m<30)) or (h >= 18))) else 0\n",
    "\n",
    "def weekday(d):\n",
    "    dt=datetime.strptime(d,\"%Y%m%d\")\n",
    "    return 1 if datetime.isoweekday(dt)<6 else 0"
   ]
  },
  {
   "cell_type": "code",
   "execution_count": 21,
   "metadata": {},
   "outputs": [],
   "source": [
    "lat,lon = utils.get_lat_long(\"Sengkang\")\n",
    "dates=taxis.get_dates(DBNAME)\n",
    "data=[analysis.get_weekday_data(date,DBNAME,lat,lon,holidays=holidays) for date in dates]\n",
    "data=[x for x in data if x is not None]"
   ]
  },
  {
   "cell_type": "code",
   "execution_count": 22,
   "metadata": {},
   "outputs": [],
   "source": [
    "rf=RandomForestRegressor(n_estimators=100,n_jobs=10,warm_start=True)\n",
    "for df in data:\n",
    "    X=df.drop(['TaxiCount','PeakHour'],axis=1)\n",
    "    y=np.array(df['TaxiCount'])\n",
    "    rf.fit(X,y.ravel())\n",
    "    rf.n_estimators+=20"
   ]
  },
  {
   "cell_type": "code",
   "execution_count": null,
   "metadata": {},
   "outputs": [],
   "source": [
    "h=20\n",
    "grid=utils.create_grid(h)\n",
    "d=utils.get_taxi_data()\n",
    "points=d['features'][0]['geometry']['coordinates']\n",
    "for b,a in points:\n",
    "    i,j=utils.get_grid_cell(a,b,h)\n",
    "    grid[j][i]+=1\n",
    "\n",
    "a,b=utils.get_grid_cell(lat,lon)\n",
    "\n",
    "results=[]\n",
    "for i in range(10):\n",
    "    n=datetime.now()\n",
    "    h=n.hour\n",
    "    m=int(5 * round(float(n.minute)/5))\n",
    "    p=1 if datetime.isoweekday(n)<6 else 0\n",
    "    X=np.array([h,m]).reshape(1,-1)\n",
    "    results.append(rf.predict(X))\n",
    "    time.sleep(30000)\n",
    "\n",
    "visualize.plot_data([(range(10),results),(range(10),[grid[b][a]]*10)])"
   ]
  }
 ],
 "metadata": {
  "kernelspec": {
   "display_name": "Python 2",
   "language": "python",
   "name": "python2"
  },
  "language_info": {
   "codemirror_mode": {
    "name": "ipython",
    "version": 2
   },
   "file_extension": ".py",
   "mimetype": "text/x-python",
   "name": "python",
   "nbconvert_exporter": "python",
   "pygments_lexer": "ipython2",
   "version": "2.7.13"
  }
 },
 "nbformat": 4,
 "nbformat_minor": 2
}
